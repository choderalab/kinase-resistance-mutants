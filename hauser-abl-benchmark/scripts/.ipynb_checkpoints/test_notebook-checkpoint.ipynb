{
 "cells": [
  {
   "cell_type": "code",
   "execution_count": 36,
   "metadata": {},
   "outputs": [],
   "source": [
    "from Bio import AlignIO,SeqIO,ExPASy,SwissProt\n",
    "from Bio.Seq import Seq\n",
    "from Bio.SeqRecord import SeqRecord\n",
    "from Bio.Alphabet import IUPAC\n",
    "from Bio import pairwise2\n",
    "from Bio.SubsMat.MatrixInfo import blosum62\n",
    "from glob import glob\n",
    "import os\n",
    "from Bio import PDB\n",
    "import argparse"
   ]
  },
  {
   "cell_type": "code",
   "execution_count": 37,
   "metadata": {},
   "outputs": [],
   "source": [
    "in_path = '../receptors/'\n",
    "out_path = 'renumbered'"
   ]
  },
  {
   "cell_type": "code",
   "execution_count": 38,
   "metadata": {},
   "outputs": [],
   "source": [
    "if not os.path.exists(out_path):\n",
    "    os.makedirs(out_path)\n",
    "\n",
    "files = glob(os.path.join(in_path,'*.pdb'))\n",
    "file = files[0]\n",
    "file_name = file \n",
    "output_dir = out_path\n",
    "accession_id = 'P00519'\n",
    "cap = True"
   ]
  },
  {
   "cell_type": "code",
   "execution_count": 39,
   "metadata": {},
   "outputs": [
    {
     "name": "stdout",
     "output_type": "stream",
     "text": [
      "Renumbering cAbl-axinitinib_nowat.pdb\n",
      "../receptors/cAbl-axinitinib_nowat.pdb does need to be renumbered\n"
     ]
    },
    {
     "ename": "ValueError",
     "evalue": "Cannot change id from `(' ', 509, ' ')` to `(' ', 509, ' ')`. The id `(' ', 509, ' ')` is already used for a sibling of this entity.",
     "output_type": "error",
     "traceback": [
      "\u001b[0;31m---------------------------------------------------------------------------\u001b[0m",
      "\u001b[0;31mValueError\u001b[0m                                Traceback (most recent call last)",
      "\u001b[0;32m<ipython-input-39-7ca9fe9cc700>\u001b[0m in \u001b[0;36m<module>\u001b[0;34m()\u001b[0m\n\u001b[1;32m     91\u001b[0m             \u001b[0mres_id\u001b[0m \u001b[0;34m=\u001b[0m \u001b[0mlist\u001b[0m\u001b[0;34m(\u001b[0m\u001b[0mresidue\u001b[0m\u001b[0;34m.\u001b[0m\u001b[0mid\u001b[0m\u001b[0;34m)\u001b[0m\u001b[0;34m\u001b[0m\u001b[0m\n\u001b[1;32m     92\u001b[0m             \u001b[0mres_id\u001b[0m\u001b[0;34m[\u001b[0m\u001b[0;36m1\u001b[0m\u001b[0;34m]\u001b[0m \u001b[0;34m=\u001b[0m \u001b[0mnew_resnums\u001b[0m\u001b[0;34m[\u001b[0m\u001b[0mindex\u001b[0m\u001b[0;34m]\u001b[0m\u001b[0;34m\u001b[0m\u001b[0m\n\u001b[0;32m---> 93\u001b[0;31m             \u001b[0mresidue\u001b[0m\u001b[0;34m.\u001b[0m\u001b[0mid\u001b[0m \u001b[0;34m=\u001b[0m \u001b[0mtuple\u001b[0m\u001b[0;34m(\u001b[0m\u001b[0mres_id\u001b[0m\u001b[0;34m)\u001b[0m\u001b[0;34m\u001b[0m\u001b[0m\n\u001b[0m\u001b[1;32m     94\u001b[0m \u001b[0;34m\u001b[0m\u001b[0m\n\u001b[1;32m     95\u001b[0m     \u001b[0;31m#  Write the renumbered PDB file\u001b[0m\u001b[0;34m\u001b[0m\u001b[0;34m\u001b[0m\u001b[0m\n",
      "\u001b[0;32m~/miniconda3/lib/python3.6/site-packages/Bio/PDB/Entity.py\u001b[0m in \u001b[0;36mid\u001b[0;34m(self, value)\u001b[0m\n\u001b[1;32m     90\u001b[0m                               \u001b[0;34m\"Cannot change id from `{}` to `{}`. \"\u001b[0m\u001b[0;34m\u001b[0m\u001b[0m\n\u001b[1;32m     91\u001b[0m                               \u001b[0;34m\"The id `{}` is already used for a sibling of\"\u001b[0m\u001b[0;34m\u001b[0m\u001b[0m\n\u001b[0;32m---> 92\u001b[0;31m                               \" this entity.\".format(self._id, value, value))\n\u001b[0m\u001b[1;32m     93\u001b[0m             \u001b[0;32mdel\u001b[0m \u001b[0mself\u001b[0m\u001b[0;34m.\u001b[0m\u001b[0mparent\u001b[0m\u001b[0;34m.\u001b[0m\u001b[0mchild_dict\u001b[0m\u001b[0;34m[\u001b[0m\u001b[0mself\u001b[0m\u001b[0;34m.\u001b[0m\u001b[0m_id\u001b[0m\u001b[0;34m]\u001b[0m\u001b[0;34m\u001b[0m\u001b[0m\n\u001b[1;32m     94\u001b[0m             \u001b[0mself\u001b[0m\u001b[0;34m.\u001b[0m\u001b[0mparent\u001b[0m\u001b[0;34m.\u001b[0m\u001b[0mchild_dict\u001b[0m\u001b[0;34m[\u001b[0m\u001b[0mvalue\u001b[0m\u001b[0;34m]\u001b[0m \u001b[0;34m=\u001b[0m \u001b[0mself\u001b[0m\u001b[0;34m\u001b[0m\u001b[0m\n",
      "\u001b[0;31mValueError\u001b[0m: Cannot change id from `(' ', 509, ' ')` to `(' ', 509, ' ')`. The id `(' ', 509, ' ')` is already used for a sibling of this entity."
     ]
    }
   ],
   "source": [
    "# read in PDB\n",
    "pdb_io = PDB.PDBIO()\n",
    "cap = True\n",
    "# File name will point to the name of the file without .pdb at the end\n",
    "filename = os.path.basename(file)\n",
    "print('Renumbering %s' % filename)\n",
    "id_name = filename[0:-4]\n",
    "\n",
    "# PDB name will point to the actual file\n",
    "pdb_name = file_name\n",
    "parser = PDB.PDBParser(PERMISSIVE=1)\n",
    "structure = parser.get_structure(id_name, pdb_name)\n",
    "\n",
    "# Extract sequence from PDB file and skip cap residues (which won't align properly)\n",
    "oneletter = {\n",
    "    'ASP': 'D', 'GLU': 'E', 'ASN': 'N', 'GLN': 'Q',\n",
    "    'ARG': 'R', 'LYS': 'K', 'PRO': 'P', 'GLY': 'G',\n",
    "    'CYS': 'C', 'THR': 'T', 'SER': 'S', 'MET': 'M',\n",
    "    'TRP': 'W', 'PHE': 'F', 'TYR': 'Y', 'HIS': 'H',\n",
    "    'ALA': 'A', 'VAL': 'V', 'LEU': 'L', 'ILE': 'I',\n",
    "}\n",
    "\n",
    "cap_res = ['NME', 'NMA', 'ACE']\n",
    "\n",
    "\n",
    "pdbseq_list = []\n",
    "for residue in structure.get_residues():\n",
    "    three_letter = residue.get_resname()\n",
    "    if three_letter in cap_res:\n",
    "        pass\n",
    "    else:\n",
    "        one_letter_name = oneletter[three_letter]\n",
    "        pdbseq_list.append(one_letter_name)\n",
    "\n",
    "pdbseq_str = ''.join(pdbseq_list)\n",
    "\n",
    "# Write out FASTA file for PDB structure\n",
    "alnPDBseq=SeqRecord(Seq(pdbseq_str,IUPAC.protein),id=file_name)\n",
    "SeqIO.write(alnPDBseq, \"%s.fasta\" % file_name, \"fasta\")\n",
    "\n",
    "# Retrieve reference sequence\n",
    "accession = accession_id  # eventually this can be specified by user somehow (or read in from the csv file)\n",
    "handle = ExPASy.get_sprot_raw(accession)\n",
    "swissseq = SwissProt.read(handle)\n",
    "refseq=SeqRecord(Seq(swissseq.sequence, IUPAC.protein), id=accession)\n",
    "SeqIO.write(refseq, \"%s.fasta\" % accession, \"fasta\")\n",
    "\n",
    "# Align using Biopython's EMBOSS needle wrapper\n",
    "seq1 = SeqIO.read(\"%s.fasta\" % accession, \"fasta\")  # Uniprot  sequence\n",
    "seq2 = SeqIO.read(\"%s.fasta\" % file_name, \"fasta\")  # PDB sequence\n",
    "\n",
    "alignments = pairwise2.align.localds(seq1.seq, seq2.seq, blosum62, -10, -0.5)\n",
    "alignment_start = alignments[0][3]\n",
    "alignment_end = alignments[0][4]\n",
    "\n",
    "# Clean up FASTA files\n",
    "os.remove(\"%s.fasta\" % file_name)\n",
    "os.remove(\"%s.fasta\" % accession)\n",
    "\n",
    "# Create the list of new residue numbers from the alignment\n",
    "new_resnums = list(range(alignment_start, alignment_end+1))\n",
    "\n",
    "# Check if the renumbering is necessary\n",
    "if cap:\n",
    "    first_in_structure = list(structure.get_residues())[1].get_id()[1]\n",
    "else:\n",
    "    first_in_structure = list(structure.get_residues())[0].get_id()[1]\n",
    "if first_in_structure == alignment_start:\n",
    "    print(\"%s does not need to be renumbered! \" % file_name)\n",
    "    pdb_io.set_structure(structure)\n",
    "    output_filename = os.path.join(output_dir, file_name, '-uniprot.pdb')\n",
    "    pdb_io.save(output_filename)\n",
    "else:\n",
    "    print(\"%s does need to be renumbered\" % file_name)\n",
    "    # Renumber the residue IDs in the structure\n",
    "    for i, residue in enumerate(structure.get_residues()):\n",
    "        three_letter = residue.get_resname()\n",
    "        if three_letter == 'ACE':  # Set resid for ACE to 1 before the start of the alignment\n",
    "            res_id = list(residue.id)\n",
    "            res_id[1] = new_resnums[0] - 1\n",
    "            residue.id = tuple(res_id)\n",
    "        elif three_letter == 'NME' or three_letter == 'NMA':  # Set resid for NME or NMA to 1 after the end of the alignment\n",
    "            res_id = list(residue.id)\n",
    "            res_id[1] = new_resnums[-1] + 1\n",
    "            residue.id = tuple(res_id)\n",
    "        else:\n",
    "            if cap == True:\n",
    "                index = i - 1\n",
    "            else:\n",
    "                index = i\n",
    "            res_id = list(residue.id)\n",
    "            res_id[1] = new_resnums[index]\n",
    "            residue.id = tuple(res_id)\n",
    "\n",
    "    #  Write the renumbered PDB file\n",
    "\n",
    "    pdb_io.set_structure(structure)\n",
    "    output_filename = os.path.join(output_dir, file_name, 'renumbered-uniprot.pdb')\n",
    "    pdb_io.save(output_filename)\n",
    "\n",
    "return None"
   ]
  },
  {
   "cell_type": "code",
   "execution_count": 46,
   "metadata": {},
   "outputs": [
    {
     "data": {
      "text/plain": [
       "228"
      ]
     },
     "execution_count": 46,
     "metadata": {},
     "output_type": "execute_result"
    }
   ],
   "source": [
    "list(structure.get_residues())[1].get_id()[1]"
   ]
  },
  {
   "cell_type": "code",
   "execution_count": 41,
   "metadata": {},
   "outputs": [
    {
     "data": {
      "text/plain": [
       "228"
      ]
     },
     "execution_count": 41,
     "metadata": {},
     "output_type": "execute_result"
    }
   ],
   "source": [
    "alignment_start"
   ]
  },
  {
   "cell_type": "code",
   "execution_count": 48,
   "metadata": {},
   "outputs": [
    {
     "data": {
      "text/plain": [
       "287"
      ]
     },
     "execution_count": 48,
     "metadata": {},
     "output_type": "execute_result"
    }
   ],
   "source": [
    "len(list(structure.get_residues()))"
   ]
  },
  {
   "cell_type": "code",
   "execution_count": 49,
   "metadata": {},
   "outputs": [
    {
     "data": {
      "text/plain": [
       "286"
      ]
     },
     "execution_count": 49,
     "metadata": {},
     "output_type": "execute_result"
    }
   ],
   "source": [
    "len(new_resnums)"
   ]
  },
  {
   "cell_type": "code",
   "execution_count": 51,
   "metadata": {},
   "outputs": [
    {
     "data": {
      "text/plain": [
       "513"
      ]
     },
     "execution_count": 51,
     "metadata": {},
     "output_type": "execute_result"
    }
   ],
   "source": [
    "alignments[0][4]"
   ]
  },
  {
   "cell_type": "code",
   "execution_count": null,
   "metadata": {},
   "outputs": [],
   "source": []
  }
 ],
 "metadata": {
  "kernelspec": {
   "display_name": "Python 3",
   "language": "python",
   "name": "python3"
  },
  "language_info": {
   "codemirror_mode": {
    "name": "ipython",
    "version": 3
   },
   "file_extension": ".py",
   "mimetype": "text/x-python",
   "name": "python",
   "nbconvert_exporter": "python",
   "pygments_lexer": "ipython3",
   "version": "3.6.3"
  }
 },
 "nbformat": 4,
 "nbformat_minor": 2
}
